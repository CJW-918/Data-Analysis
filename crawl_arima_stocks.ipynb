{
 "cells": [
  {
   "cell_type": "code",
   "execution_count": 10,
   "metadata": {},
   "outputs": [],
   "source": [
    "#크롤링을 위해 필요한 것.\n",
    "import requests\n",
    "import xmltodict\n",
    "import json\n",
    "import pandas as pd\n",
    "#ARIMA 분석을 위해 필요한 것.\n",
    "import matplotlib.pyplot as plt\n",
    "from statsmodels.tsa.stattools import adfuller\n",
    "from statsmodels.graphics.tsaplots import plot_acf, plot_pacf\n",
    "from statsmodels.tsa.arima.model import ARIMA"
   ]
  },
  {
   "cell_type": "code",
   "execution_count": 12,
   "metadata": {},
   "outputs": [
    {
     "name": "stdout",
     "output_type": "stream",
     "text": [
      "예상하고자 하는 종목코드를 입력하세요.\n",
      "005930\n",
      "몇 일의 과거 데이터를 불러오겠습니까?\n",
      "543\n"
     ]
    }
   ],
   "source": [
    "# 종목코드 입력\n",
    "print(\"예상하고자 하는 종목코드를 입력하세요.\")\n",
    "stock_code = input()\n",
    "print(stock_code)\n",
    "stock = pd.DataFrame()\n",
    "#가져올 일수 입력.\n",
    "print(\"몇 일의 과거 데이터를 불러오겠습니까?\")\n",
    "days = input()\n",
    "print(days)"
   ]
  },
  {
   "cell_type": "code",
   "execution_count": 14,
   "metadata": {},
   "outputs": [
    {
     "name": "stdout",
     "output_type": "stream",
     "text": [
      "https://finance.naver.com/sise/nhn?symbol=005930&timeframe=day&count=543\n"
     ]
    }
   ],
   "source": [
    "# 크롤링할 url 지정.\n",
    "url = f'https://finance.naver.com/sise/nhn?symbol={stock_code}&timeframe=day&count={days}'\n",
    "print(url)"
   ]
  },
  {
   "cell_type": "code",
   "execution_count": null,
   "metadata": {},
   "outputs": [],
   "source": [
    "# json 형태로 데이터 가져오기\n",
    "rs = requests.get(url)\n",
    "dt = xmltodict.parse(rs.text)"
   ]
  }
 ],
 "metadata": {
  "kernelspec": {
   "display_name": "Python 3",
   "language": "python",
   "name": "python3"
  },
  "language_info": {
   "codemirror_mode": {
    "name": "ipython",
    "version": 3
   },
   "file_extension": ".py",
   "mimetype": "text/x-python",
   "name": "python",
   "nbconvert_exporter": "python",
   "pygments_lexer": "ipython3",
   "version": "3.9.1"
  },
  "orig_nbformat": 4,
  "vscode": {
   "interpreter": {
    "hash": "8dabe13509d592e29c529709946051ca76cf8bb2f945fe41c81c2d0cb5488996"
   }
  }
 },
 "nbformat": 4,
 "nbformat_minor": 2
}
