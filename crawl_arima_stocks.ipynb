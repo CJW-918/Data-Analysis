{
 "cells": [
  {
   "cell_type": "code",
   "execution_count": 10,
   "metadata": {},
   "outputs": [],
   "source": [
    "#크롤링을 위해 필요한 것.\n",
    "#주식 정보라는게 실시간으로 변하는 데이터임을 참고, 동적 크롤링을 해보도록 하자.\n",
    "import requests\n",
    "import json\n",
    "from bs4 import BeautifulSoup as bs\n",
    "import urllib.request as ur\n",
    "#ARIMA 분석을 위해 필요한 것.\n",
    "#사실 판다스 머신러닝 필수 라이브러리 중 하나다.\n",
    "import pandas as pd\n",
    "import matplotlib.pyplot as plt\n",
    "from statsmodels.tsa.stattools import adfuller\n",
    "from statsmodels.graphics.tsaplots import plot_acf, plot_pacf\n",
    "from statsmodels.tsa.arima.model import ARIMA"
   ]
  },
  {
   "cell_type": "code",
   "execution_count": 11,
   "metadata": {},
   "outputs": [
    {
     "name": "stdout",
     "output_type": "stream",
     "text": [
      "예상하고자 하는 종목코드를 입력하세요.\n",
      "005930\n",
      "몇 일의 과거 데이터를 불러오겠습니까?\n",
      "543\n"
     ]
    }
   ],
   "source": [
    "# 종목코드 입력\n",
    "print(\"예상하고자 하는 종목코드를 입력하세요.\")\n",
    "stock_code = input()\n",
    "print(stock_code)\n",
    "#가져올 일수 입력.\n",
    "print(\"몇 일의 과거 데이터를 불러오겠습니까?\")\n",
    "days = input()\n",
    "print(days)"
   ]
  },
  {
   "cell_type": "code",
   "execution_count": 12,
   "metadata": {},
   "outputs": [],
   "source": [
    "url = requests.get('https://finance.naver.com/item/main.naver?code={stock_code}')\n",
    "html = page.text\n",
    "soup = bs(page.text, \"html.parser\")\n",
    "\n",
    "elements = soup.select('div.rate_info > no_info')"
   ]
  }
 ],
 "metadata": {
  "kernelspec": {
   "display_name": "Python 3",
   "language": "python",
   "name": "python3"
  },
  "language_info": {
   "codemirror_mode": {
    "name": "ipython",
    "version": 3
   },
   "file_extension": ".py",
   "mimetype": "text/x-python",
   "name": "python",
   "nbconvert_exporter": "python",
   "pygments_lexer": "ipython3",
   "version": "3.9.1"
  },
  "orig_nbformat": 4,
  "vscode": {
   "interpreter": {
    "hash": "8dabe13509d592e29c529709946051ca76cf8bb2f945fe41c81c2d0cb5488996"
   }
  }
 },
 "nbformat": 4,
 "nbformat_minor": 2
}
