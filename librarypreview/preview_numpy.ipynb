{
 "cells": [
  {
   "cell_type": "code",
   "execution_count": 1,
   "metadata": {},
   "outputs": [],
   "source": [
    "import numpy as np"
   ]
  },
  {
   "cell_type": "code",
   "execution_count": 2,
   "metadata": {},
   "outputs": [
    {
     "data": {
      "text/plain": [
       "array([[ 0,  1,  2,  3],\n",
       "       [ 4,  5,  6,  7],\n",
       "       [ 8,  9, 10, 11],\n",
       "       [12, 13, 14, 15]])"
      ]
     },
     "execution_count": 2,
     "metadata": {},
     "output_type": "execute_result"
    }
   ],
   "source": [
    "arr = np.arange(16).reshape(4, 4)\n",
    "arr"
   ]
  },
  {
   "cell_type": "code",
   "execution_count": 3,
   "metadata": {},
   "outputs": [
    {
     "data": {
      "text/plain": [
       "(4, 4)"
      ]
     },
     "execution_count": 3,
     "metadata": {},
     "output_type": "execute_result"
    }
   ],
   "source": [
    "# 배열 정보 확인\n",
    "arr.shape"
   ]
  },
  {
   "cell_type": "code",
   "execution_count": 4,
   "metadata": {},
   "outputs": [
    {
     "data": {
      "text/plain": [
       "dtype('int32')"
      ]
     },
     "execution_count": 4,
     "metadata": {},
     "output_type": "execute_result"
    }
   ],
   "source": [
    "arr.dtype"
   ]
  },
  {
   "cell_type": "code",
   "execution_count": 5,
   "metadata": {},
   "outputs": [
    {
     "data": {
      "text/plain": [
       "array([[0., 0., 0., 0.],\n",
       "       [0., 0., 0., 0.],\n",
       "       [0., 0., 0., 0.]])"
      ]
     },
     "execution_count": 5,
     "metadata": {},
     "output_type": "execute_result"
    }
   ],
   "source": [
    "arr_zeros = np.zeros((3, 4))\n",
    "arr_zeros"
   ]
  },
  {
   "cell_type": "code",
   "execution_count": 6,
   "metadata": {},
   "outputs": [],
   "source": [
    "# 사칙연산\n",
    "arr1 = np.array([[1,2,3], [4,5,6]], dtype=np.float64)\n",
    "arr2 = np.array([[7,8,9], [0,1,2]], dtype=np.float64)"
   ]
  },
  {
   "cell_type": "code",
   "execution_count": 7,
   "metadata": {},
   "outputs": [
    {
     "name": "stdout",
     "output_type": "stream",
     "text": [
      "arr1 + arr2 = \n",
      "[[ 8. 10. 12.]\n",
      " [ 4.  6.  8.]] \n",
      "\n",
      "arr1 - arr2 = \n",
      "[[-6. -6. -6.]\n",
      " [ 4.  4.  4.]] \n",
      "\n",
      "arr1 * arr2 = \n",
      "[[ 7. 16. 27.]\n",
      " [ 0.  5. 12.]] \n",
      "\n",
      "arr1 / arr2 = \n",
      "[[0.14285714 0.25       0.33333333]\n",
      " [       inf 5.         3.        ]] \n",
      "\n"
     ]
    },
    {
     "name": "stderr",
     "output_type": "stream",
     "text": [
      "C:\\Users\\jinw0\\AppData\\Local\\Temp\\ipykernel_2100\\2500981473.py:8: RuntimeWarning: divide by zero encountered in true_divide\n",
      "  print(arr1 / arr2, \"\\n\")\n"
     ]
    }
   ],
   "source": [
    "print(\"arr1 + arr2 = \")\n",
    "print(arr1 + arr2, \"\\n\")\n",
    "print(\"arr1 - arr2 = \")\n",
    "print(arr1 - arr2, \"\\n\")\n",
    "print(\"arr1 * arr2 = \")\n",
    "print(arr1 * arr2, \"\\n\")\n",
    "print(\"arr1 / arr2 = \")\n",
    "print(arr1 / arr2, \"\\n\")"
   ]
  },
  {
   "cell_type": "code",
   "execution_count": null,
   "metadata": {},
   "outputs": [],
   "source": []
  }
 ],
 "metadata": {
  "kernelspec": {
   "display_name": "base",
   "language": "python",
   "name": "python3"
  },
  "language_info": {
   "codemirror_mode": {
    "name": "ipython",
    "version": 3
   },
   "file_extension": ".py",
   "mimetype": "text/x-python",
   "name": "python",
   "nbconvert_exporter": "python",
   "pygments_lexer": "ipython3",
   "version": "3.9.13"
  },
  "orig_nbformat": 4,
  "vscode": {
   "interpreter": {
    "hash": "e3b588d3c7232873aa27e7d8486989898032cfbe1beb4b6efa00e78fa3ae49a9"
   }
  }
 },
 "nbformat": 4,
 "nbformat_minor": 2
}
